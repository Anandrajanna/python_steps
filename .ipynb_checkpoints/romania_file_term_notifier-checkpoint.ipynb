{
 "cells": [
  {
   "cell_type": "code",
   "execution_count": 1,
   "metadata": {},
   "outputs": [],
   "source": [
    "import pandas as pd\n",
    "import numpy as np\n",
    "import tabula\n",
    "from tabula import wrapper\n",
    "import requests\n",
    "from datetime import datetime\n",
    "import os\n",
    "import math\n",
    "import smtplib as smtp\n",
    "from getpass import getpass"
   ]
  },
  {
   "cell_type": "code",
   "execution_count": 2,
   "metadata": {},
   "outputs": [
    {
     "name": "stdout",
     "output_type": "stream",
     "text": [
      "2018-12-02\n"
     ]
    }
   ],
   "source": [
    "url = 'http://cetatenie.just.ro/images/Art._11_2018_Redobandire.pdf'\n",
    "date = str(datetime.now()).split(' ')[0]\n",
    "\n",
    "print(date)"
   ]
  },
  {
   "cell_type": "code",
   "execution_count": 3,
   "metadata": {},
   "outputs": [
    {
     "name": "stdout",
     "output_type": "stream",
     "text": [
      "Check if /temp_data directory exists\n",
      "True\n"
     ]
    }
   ],
   "source": [
    "print('Check if /temp_data directory exists...')\n",
    "print(os.path.exists('./temp_data'))\n",
    "\n",
    "if not os.path.exists('./temp_data'):\n",
    "    os.system('mkdir temp_data')"
   ]
  },
  {
   "cell_type": "code",
   "execution_count": 4,
   "metadata": {},
   "outputs": [],
   "source": [
    "r = requests.get(url, stream = True)\n",
    "file_name = './temp_data/romania_files_2018.pdf'\n",
    "\n",
    "with open(file_name, 'wb') as fd:\n",
    "    for chunk in r.iter_content(102400):\n",
    "        fd.write(chunk)"
   ]
  },
  {
   "cell_type": "code",
   "execution_count": 11,
   "metadata": {},
   "outputs": [],
   "source": [
    "# wrapper.convert_into(file_name, (file_name + '.csv'), output_format='csv', pages='all')"
   ]
  },
  {
   "cell_type": "code",
   "execution_count": 12,
   "metadata": {},
   "outputs": [],
   "source": [
    "df = wrapper.read_pdf(file_name, pages='1623-1790')"
   ]
  },
  {
   "cell_type": "code",
   "execution_count": 13,
   "metadata": {},
   "outputs": [
    {
     "data": {
      "text/html": [
       "<div>\n",
       "<style scoped>\n",
       "    .dataframe tbody tr th:only-of-type {\n",
       "        vertical-align: middle;\n",
       "    }\n",
       "\n",
       "    .dataframe tbody tr th {\n",
       "        vertical-align: top;\n",
       "    }\n",
       "\n",
       "    .dataframe thead th {\n",
       "        text-align: right;\n",
       "    }\n",
       "</style>\n",
       "<table border=\"1\" class=\"dataframe\">\n",
       "  <thead>\n",
       "    <tr style=\"text-align: right;\">\n",
       "      <th></th>\n",
       "      <th>NR. DOSAR</th>\n",
       "      <th>DATA ÎNREGISTRĂRII</th>\n",
       "      <th>TERMEN</th>\n",
       "      <th>SOLUȚIE</th>\n",
       "    </tr>\n",
       "  </thead>\n",
       "  <tbody>\n",
       "    <tr>\n",
       "      <th>0</th>\n",
       "      <td>73752/RD/2018</td>\n",
       "      <td>28.09.2018</td>\n",
       "      <td>04.02.2019</td>\n",
       "      <td>NaN</td>\n",
       "    </tr>\n",
       "    <tr>\n",
       "      <th>1</th>\n",
       "      <td>73753/RD/2018</td>\n",
       "      <td>28.09.2018</td>\n",
       "      <td>04.02.2019</td>\n",
       "      <td>NaN</td>\n",
       "    </tr>\n",
       "    <tr>\n",
       "      <th>2</th>\n",
       "      <td>73754/RD/2018</td>\n",
       "      <td>28.09.2018</td>\n",
       "      <td>04.02.2019</td>\n",
       "      <td>NaN</td>\n",
       "    </tr>\n",
       "    <tr>\n",
       "      <th>3</th>\n",
       "      <td>73755/RD/2018</td>\n",
       "      <td>28.09.2018</td>\n",
       "      <td>04.02.2019</td>\n",
       "      <td>NaN</td>\n",
       "    </tr>\n",
       "    <tr>\n",
       "      <th>4</th>\n",
       "      <td>73756/RD/2018</td>\n",
       "      <td>28.09.2018</td>\n",
       "      <td>04.02.2019</td>\n",
       "      <td>NaN</td>\n",
       "    </tr>\n",
       "  </tbody>\n",
       "</table>\n",
       "</div>"
      ],
      "text/plain": [
       "       NR. DOSAR DATA ÎNREGISTRĂRII      TERMEN  SOLUȚIE\n",
       "0  73752/RD/2018         28.09.2018  04.02.2019      NaN\n",
       "1  73753/RD/2018         28.09.2018  04.02.2019      NaN\n",
       "2  73754/RD/2018         28.09.2018  04.02.2019      NaN\n",
       "3  73755/RD/2018         28.09.2018  04.02.2019      NaN\n",
       "4  73756/RD/2018         28.09.2018  04.02.2019      NaN"
      ]
     },
     "execution_count": 13,
     "metadata": {},
     "output_type": "execute_result"
    }
   ],
   "source": [
    "df.head()"
   ]
  },
  {
   "cell_type": "code",
   "execution_count": 14,
   "metadata": {},
   "outputs": [],
   "source": [
    "# df.columns = ['NR. DOSAR', 'DATA ÎNREGISTRĂRII', 'TERMEN', 'SOLUȚIE']\n",
    "df.columns = ['NR. DOSAR', 'DATA INREGISTRARII', 'TERMEN', 'SOLUTIE']"
   ]
  },
  {
   "cell_type": "code",
   "execution_count": 15,
   "metadata": {},
   "outputs": [
    {
     "name": "stdout",
     "output_type": "stream",
     "text": [
      "(7181, 4)\n",
      "<class 'str'>\n"
     ]
    }
   ],
   "source": [
    "# print(df.shape)\n",
    "# print(type(df.iloc[0,2]))"
   ]
  },
  {
   "cell_type": "code",
   "execution_count": 16,
   "metadata": {},
   "outputs": [],
   "source": [
    "select = ['80190/RD/2018', '80196/RD/2018', '80200/RD/2018', '80864/RD/2018']\n",
    "\n",
    "we = df[df['NR. DOSAR'].apply(lambda x: x in select)]"
   ]
  },
  {
   "cell_type": "code",
   "execution_count": 17,
   "metadata": {},
   "outputs": [
    {
     "name": "stdout",
     "output_type": "stream",
     "text": [
      "          NR. DOSAR DATA INREGISTRARII TERMEN  SOLUTIE\n",
      "5913  80190/RD/2018         18.10.2018    NaN      NaN\n",
      "5918  80196/RD/2018         18.10.2018    NaN      NaN\n",
      "5921  80200/RD/2018         18.10.2018    NaN      NaN\n",
      "6510  80864/RD/2018         22.10.2018    NaN      NaN\n"
     ]
    }
   ],
   "source": [
    "print(we)"
   ]
  },
  {
   "cell_type": "code",
   "execution_count": 20,
   "metadata": {},
   "outputs": [],
   "source": [
    "# for x in we['TERMEN']:\n",
    "#     print(type(x))\n",
    "\n",
    "we_termen = we[we['TERMEN'].apply(lambda x: isinstance(x, str)) | we['SOLUTIE'].apply(lambda x: isinstance(x, str))]\n",
    "# print(we_termen)"
   ]
  },
  {
   "cell_type": "code",
   "execution_count": 22,
   "metadata": {},
   "outputs": [
    {
     "name": "stdout",
     "output_type": "stream",
     "text": [
      "No matches found by Romania File Checker for now.\n"
     ]
    }
   ],
   "source": [
    "if not we_termen.empty:\n",
    "    text_to_send = 'Romania File Checker found the following matches: \\n\\n\\n' + we_termen.to_string()\n",
    "    match = True\n",
    "else:\n",
    "    text_to_send = 'No matches found by Romania File Checker for now.'\n",
    "    match = False\n",
    "    \n",
    "print(text_to_send)"
   ]
  },
  {
   "cell_type": "code",
   "execution_count": 89,
   "metadata": {},
   "outputs": [
    {
     "name": "stderr",
     "output_type": "stream",
     "text": [
      "send: 'ehlo romania.checker@yandex.ru\\r\\n'\n",
      "reply: b'250-smtp1j.mail.yandex.net\\r\\n'\n",
      "reply: b'250-8BITMIME\\r\\n'\n",
      "reply: b'250-PIPELINING\\r\\n'\n",
      "reply: b'250-SIZE 42991616\\r\\n'\n",
      "reply: b'250-AUTH LOGIN PLAIN XOAUTH2\\r\\n'\n",
      "reply: b'250-DSN\\r\\n'\n",
      "reply: b'250 ENHANCEDSTATUSCODES\\r\\n'\n",
      "reply: retcode (250); Msg: b'smtp1j.mail.yandex.net\\n8BITMIME\\nPIPELINING\\nSIZE 42991616\\nAUTH LOGIN PLAIN XOAUTH2\\nDSN\\nENHANCEDSTATUSCODES'\n",
      "send: 'AUTH PLAIN AHJvbWFuaWEuY2hlY2tlckB5YW5kZXgucnUAUm9tYW5pYUNoZWNrZXI=\\r\\n'\n",
      "reply: b'235 2.7.0 Authentication successful.\\r\\n'\n",
      "reply: retcode (235); Msg: b'2.7.0 Authentication successful.'\n",
      "send: 'mail FROM:<romania.checker@yandex.ru> size=189\\r\\n'\n",
      "reply: b'250 2.1.0 <romania.checker@yandex.ru> ok\\r\\n'\n",
      "reply: retcode (250); Msg: b'2.1.0 <romania.checker@yandex.ru> ok'\n",
      "send: 'rcpt TO:<stellarnode@ya.ru>\\r\\n'\n",
      "reply: b'250 2.1.5 <stellarnode@ya.ru> recipient ok\\r\\n'\n",
      "reply: retcode (250); Msg: b'2.1.5 <stellarnode@ya.ru> recipient ok'\n",
      "send: 'rcpt TO:<yaroslav.smirnov@gmail.com>\\r\\n'\n",
      "reply: b'250 2.1.5 <yaroslav.smirnov@gmail.com> recipient ok\\r\\n'\n",
      "reply: retcode (250); Msg: b'2.1.5 <yaroslav.smirnov@gmail.com> recipient ok'\n",
      "send: 'data\\r\\n'\n",
      "reply: b'354 Enter mail, end with \".\" on a line by itself\\r\\n'\n",
      "reply: retcode (354); Msg: b'Enter mail, end with \".\" on a line by itself'\n",
      "data: (354, b'Enter mail, end with \".\" on a line by itself')\n",
      "send: b\"From: Romania Checker <romania.checker@yandex.ru>\\r\\nTo: ['stellarnode@ya.ru', 'yaroslav.smirnov@gmail.com']\\r\\nSubject: File Checker Status\\r\\n\\r\\nNo matches found by Romania File Checker for now.\\r\\n.\\r\\n\"\n",
      "reply: b'250 2.0.0 Ok: queued on smtp1j.mail.yandex.net as 1542538239-6T9Q6fUuZH-oc4eK4dh\\r\\n'\n",
      "reply: retcode (250); Msg: b'2.0.0 Ok: queued on smtp1j.mail.yandex.net as 1542538239-6T9Q6fUuZH-oc4eK4dh'\n",
      "data: (250, b'2.0.0 Ok: queued on smtp1j.mail.yandex.net as 1542538239-6T9Q6fUuZH-oc4eK4dh')\n",
      "send: 'quit\\r\\n'\n",
      "reply: b'221 2.0.0 Closing connection.\\r\\n'\n",
      "reply: retcode (221); Msg: b'2.0.0 Closing connection.'\n"
     ]
    },
    {
     "data": {
      "text/plain": [
       "(221, b'2.0.0 Closing connection.')"
      ]
     },
     "execution_count": 89,
     "metadata": {},
     "output_type": "execute_result"
    }
   ],
   "source": [
    "if match:\n",
    "    email = 'romania.checker@yandex.ru'\n",
    "    password = 'RomaniaChecker'\n",
    "    dest_email = ['stellarnode@ya.ru', 'yaroslav.smirnov@gmail.com']\n",
    "    subject = 'File Checker Status'\n",
    "    email_text = text_to_send\n",
    "\n",
    "    message = 'From: {}\\nTo: {}\\nSubject: {}\\n\\n{}'.format('Romania Checker <' + email + '>',\n",
    "                                                           dest_email, \n",
    "                                                           subject, \n",
    "                                                           email_text)\n",
    "    server = smtp.SMTP_SSL('smtp.yandex.com')\n",
    "    server.set_debuglevel(1)\n",
    "    server.ehlo(email)\n",
    "    server.login(email, password)\n",
    "    server.auth_plain()\n",
    "    server.sendmail(email, dest_email, message)\n",
    "    server.quit()"
   ]
  },
  {
   "cell_type": "code",
   "execution_count": null,
   "metadata": {},
   "outputs": [],
   "source": []
  }
 ],
 "metadata": {
  "kernelspec": {
   "display_name": "Python 3",
   "language": "python",
   "name": "python3"
  },
  "language_info": {
   "codemirror_mode": {
    "name": "ipython",
    "version": 3
   },
   "file_extension": ".py",
   "mimetype": "text/x-python",
   "name": "python",
   "nbconvert_exporter": "python",
   "pygments_lexer": "ipython3",
   "version": "3.7.0"
  }
 },
 "nbformat": 4,
 "nbformat_minor": 2
}
