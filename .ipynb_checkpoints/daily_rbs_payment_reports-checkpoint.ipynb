{
 "cells": [
  {
   "cell_type": "code",
   "execution_count": 1,
   "metadata": {},
   "outputs": [],
   "source": [
    "import numpy as np\n",
    "import pandas as pd\n",
    "# import json, requests\n",
    "from pandas.io.json import json_normalize\n",
    "from datetime import datetime, timedelta\n",
    "import smtplib as smtp\n",
    "from getpass import getpass"
   ]
  },
  {
   "cell_type": "code",
   "execution_count": 2,
   "metadata": {},
   "outputs": [
    {
     "name": "stdout",
     "output_type": "stream",
     "text": [
      "20181116000000 20181116200000\n",
      "2018-11-16 00:00 2018-11-16 20:00\n"
     ]
    }
   ],
   "source": [
    "today = datetime.now()\n",
    "delta = 1\n",
    "\n",
    "if today.hour <= 9 or delta > 1:\n",
    "    day_before = today - timedelta(days = delta)\n",
    "    day_before = day_before.replace(hour = 0, minute = 0, second = 0)\n",
    "else:\n",
    "    day_before = today.replace(hour = 0, minute = 0, second = 0)\n",
    "\n",
    "hour_start = '000000'\n",
    "hour_end = '080000'\n",
    "\n",
    "def format_str_zeros(x):\n",
    "    if x < 10:\n",
    "        out = '0' + str(x)\n",
    "    else:\n",
    "        out = str(x)\n",
    "    return out\n",
    "\n",
    "hour_start = format_str_zeros(day_before.hour) + '0000'\n",
    "day_before_str = format_str_zeros(day_before.day)\n",
    "month_before_str = format_str_zeros(day_before.month)\n",
    "\n",
    "# print(day_before)\n",
    "\n",
    "if today.hour < 22:\n",
    "    today = today.replace(hour = today.hour + 2)\n",
    "\n",
    "hour_end = format_str_zeros(today.hour) + '0000'\n",
    "day = format_str_zeros(today.day)\n",
    "month = format_str_zeros(today.month)\n",
    "\n",
    "\n",
    "start = str(today.year) + month_before_str + day_before_str + hour_start\n",
    "end = str(today.year) + month + day + hour_end\n",
    "print(start, end)\n",
    "\n",
    "start_formatted = datetime.strptime(start, '%Y%m%d%H%M%S').strftime('%Y-%m-%d %H:%M')\n",
    "end_formatted = datetime.strptime(end, '%Y%m%d%H%M%S').strftime('%Y-%m-%d %H:%M')\n",
    "print(start_formatted, end_formatted)\n",
    "\n",
    "url = \"https://oplata.mtsbank.ru/payment/rest/getLastOrdersForMerchants.do?userName=lvlup_school-api&password=S1o173S95%21%40f&language=ru&page=0&size=100&from={0}&to={1}&transactionStates=DEPOSITED&merchants=lvlup_school&searchByCreatedDate=false\".format(start, end)\n",
    "# print(url)"
   ]
  },
  {
   "cell_type": "code",
   "execution_count": 3,
   "metadata": {},
   "outputs": [
    {
     "name": "stdout",
     "output_type": "stream",
     "text": [
      "No completed payments from 2018-11-16 00:00 to 2018-11-16 20:00.\n"
     ]
    }
   ],
   "source": [
    "response = pd.read_json(url, orient='columns')\n",
    "\n",
    "if response['orderStatuses'].empty:\n",
    "    text_to_send = 'No completed payments from {} to {}.'.format(start_formatted, end_formatted)\n",
    "    print(text_to_send)\n",
    "else:\n",
    "    text_to_send = 'List of payments from {} to {}: \\n\\n'.format(start_formatted, end_formatted)\n",
    "    # print(response['orderStatuses'])\n",
    "    \n",
    "    response = json_normalize(response['orderStatuses'])\n",
    "    # response.to_excel('/Users/stellarnode/Desktop/response.xls')\n",
    "    # response.head()\n",
    "    \n",
    "    report = response[['amount', 'bankInfo.bankName', 'orderDescription', 'cardAuthInfo.cardholderName', 'cardAuthInfo.paymentSystem', 'ip']].copy()\n",
    "    report['Date'] = response['authDateTime'].apply(lambda x: datetime.fromtimestamp(x // 1000).isoformat(sep='T'))\n",
    "    report['customterEmail'] = response['merchantOrderParams'].apply(lambda x: x[0]['value'])\n",
    "    report['amount'] = report['amount'].apply(lambda x: float(x) / 100)\n",
    "    \n",
    "    report.rename(index=str, columns={'amount': 'AMOUNT',\n",
    "                                      'bankInfo.bankName': 'BANK_NAME',\n",
    "                                      'orderDescription': 'ORDER_NUMBER',\n",
    "                                      'cardAuthInfo.cardholderName': 'CARDHOLDER_NAME',\n",
    "                                      'cardAuthInfo.paymentSystem': 'PAYMENT_SYSTEM',\n",
    "                                      'ip': 'IP_ADDRESS',\n",
    "                                      'Date': 'DATE',\n",
    "                                      'customterEmail': 'CUSTOMER_EMAIL'},\n",
    "                                      inplace = True)\n",
    "    \n",
    "    text_to_send = text_to_send + report.to_string()\n",
    "    print(text_to_send)"
   ]
  },
  {
   "cell_type": "code",
   "execution_count": 4,
   "metadata": {},
   "outputs": [
    {
     "name": "stderr",
     "output_type": "stream",
     "text": [
      "send: 'ehlo smart.university.mailer@yandex.ru\\r\\n'\n",
      "reply: b'250-smtp4p.mail.yandex.net\\r\\n'\n",
      "reply: b'250-8BITMIME\\r\\n'\n",
      "reply: b'250-PIPELINING\\r\\n'\n",
      "reply: b'250-SIZE 42991616\\r\\n'\n",
      "reply: b'250-AUTH LOGIN PLAIN XOAUTH2\\r\\n'\n",
      "reply: b'250-DSN\\r\\n'\n",
      "reply: b'250 ENHANCEDSTATUSCODES\\r\\n'\n",
      "reply: retcode (250); Msg: b'smtp4p.mail.yandex.net\\n8BITMIME\\nPIPELINING\\nSIZE 42991616\\nAUTH LOGIN PLAIN XOAUTH2\\nDSN\\nENHANCEDSTATUSCODES'\n",
      "send: 'AUTH PLAIN AHNtYXJ0LnVuaXZlcnNpdHkubWFpbGVyQHlhbmRleC5ydQBTbWFydEVkdWNhdGlvbg==\\r\\n'\n",
      "reply: b'235 2.7.0 Authentication successful.\\r\\n'\n",
      "reply: retcode (235); Msg: b'2.7.0 Authentication successful.'\n",
      "send: 'mail FROM:<smart.university.mailer@yandex.ru> size=246\\r\\n'\n",
      "reply: b'250 2.1.0 <smart.university.mailer@yandex.ru> ok\\r\\n'\n",
      "reply: retcode (250); Msg: b'2.1.0 <smart.university.mailer@yandex.ru> ok'\n",
      "send: 'rcpt TO:<stellarnode@ya.ru>\\r\\n'\n",
      "reply: b'250 2.1.5 <stellarnode@ya.ru> recipient ok\\r\\n'\n",
      "reply: retcode (250); Msg: b'2.1.5 <stellarnode@ya.ru> recipient ok'\n",
      "send: 'rcpt TO:<yaroslav.smirnov@mts.ru>\\r\\n'\n",
      "reply: b'250 2.1.5 <yaroslav.smirnov@mts.ru> recipient ok\\r\\n'\n",
      "reply: retcode (250); Msg: b'2.1.5 <yaroslav.smirnov@mts.ru> recipient ok'\n",
      "send: 'data\\r\\n'\n",
      "reply: b'354 Enter mail, end with \".\" on a line by itself\\r\\n'\n",
      "reply: retcode (354); Msg: b'Enter mail, end with \".\" on a line by itself'\n",
      "data: (354, b'Enter mail, end with \".\" on a line by itself')\n",
      "send: b\"From: SmartU Mailer <smart.university.mailer@yandex.ru>\\r\\nBCC: ['stellarnode@ya.ru', 'yaroslav.smirnov@mts.ru']\\r\\nSubject: SmartU Payments from 2018-11-16 00:00 to 2018-11-16 20:00\\r\\n\\r\\nNo completed payments from 2018-11-16 00:00 to 2018-11-16 20:00.\\r\\n.\\r\\n\"\n",
      "reply: b'250 2.0.0 Ok: queued on smtp4p.mail.yandex.net as 1542382880-uCrACe5fTn-fJQWKYvk\\r\\n'\n",
      "reply: retcode (250); Msg: b'2.0.0 Ok: queued on smtp4p.mail.yandex.net as 1542382880-uCrACe5fTn-fJQWKYvk'\n",
      "data: (250, b'2.0.0 Ok: queued on smtp4p.mail.yandex.net as 1542382880-uCrACe5fTn-fJQWKYvk')\n",
      "send: 'quit\\r\\n'\n",
      "reply: b'221 2.0.0 Closing connection.\\r\\n'\n",
      "reply: retcode (221); Msg: b'2.0.0 Closing connection.'\n"
     ]
    },
    {
     "data": {
      "text/plain": [
       "(221, b'2.0.0 Closing connection.')"
      ]
     },
     "execution_count": 4,
     "metadata": {},
     "output_type": "execute_result"
    }
   ],
   "source": [
    "email = 'smart.university.mailer@yandex.ru'\n",
    "password = 'SmartEducation'\n",
    "dest_email = ['stellarnode@ya.ru', 'yaroslav.smirnov@mts.ru']\n",
    "subject = 'SmartU Payments from {} to {}'.format(start_formatted, end_formatted)\n",
    "email_text = text_to_send\n",
    "\n",
    "message = 'From: {}\\nTo: {}\\nSubject: {}\\n\\n{}'.format('SmartU Mailer <' + email + '>',\n",
    "                                                       dest_email, \n",
    "                                                       subject, \n",
    "                                                       email_text)\n",
    "\n",
    "server = smtp.SMTP_SSL('smtp.yandex.com')\n",
    "server.set_debuglevel(1)\n",
    "server.ehlo(email)\n",
    "server.login(email, password)\n",
    "server.auth_plain()\n",
    "server.sendmail(email, dest_email, message)\n",
    "server.quit()"
   ]
  },
  {
   "cell_type": "code",
   "execution_count": null,
   "metadata": {},
   "outputs": [],
   "source": []
  }
 ],
 "metadata": {
  "kernelspec": {
   "display_name": "Python 3",
   "language": "python",
   "name": "python3"
  },
  "language_info": {
   "codemirror_mode": {
    "name": "ipython",
    "version": 3
   },
   "file_extension": ".py",
   "mimetype": "text/x-python",
   "name": "python",
   "nbconvert_exporter": "python",
   "pygments_lexer": "ipython3",
   "version": "3.7.0"
  }
 },
 "nbformat": 4,
 "nbformat_minor": 2
}
